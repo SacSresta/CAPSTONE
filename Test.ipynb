{
 "cells": [
  {
   "cell_type": "code",
   "execution_count": 1,
   "id": "d4b77746-ce5b-403e-83bf-9a563be3b523",
   "metadata": {},
   "outputs": [
    {
     "name": "stdout",
     "output_type": "stream",
     "text": [
      "Original DataFrame:\n",
      "                   cores\n",
      "0         [core1, core2]\n",
      "1                [core3]\n",
      "2  [core4, core5, core6]\n",
      "\n",
      "Filtered DataFrame where length of 'cores' is equal to 1:\n",
      "     cores\n",
      "1  [core3]\n"
     ]
    }
   ],
   "source": [
    "import pandas as pd\n",
    "\n",
    "# Sample data\n",
    "data = {\n",
    "    'cores': [['core1', 'core2'], ['core3'], ['core4', 'core5', 'core6']]\n",
    "}\n",
    "\n",
    "# Creating a DataFrame from the data\n",
    "df = pd.DataFrame(data)\n",
    "\n",
    "# Applying the map function to calculate the length of each list in the 'cores' column\n",
    "lengths = df['cores'].map(len)\n",
    "\n",
    "# Checking which lengths are equal to 1\n",
    "equal_to_1 = lengths == 1\n",
    "\n",
    "# Selecting the rows where the length is equal to 1\n",
    "filtered_data = df[equal_to_1]\n",
    "\n",
    "print(\"Original DataFrame:\")\n",
    "print(df)\n",
    "print(\"\\nFiltered DataFrame where length of 'cores' is equal to 1:\")\n",
    "print(filtered_data)\n"
   ]
  },
  {
   "cell_type": "code",
   "execution_count": null,
   "id": "0cb23d6c-825f-40a8-9567-362b2c5b4ad8",
   "metadata": {},
   "outputs": [],
   "source": []
  }
 ],
 "metadata": {
  "kernelspec": {
   "display_name": "Python 3 (ipykernel)",
   "language": "python",
   "name": "python3"
  },
  "language_info": {
   "codemirror_mode": {
    "name": "ipython",
    "version": 3
   },
   "file_extension": ".py",
   "mimetype": "text/x-python",
   "name": "python",
   "nbconvert_exporter": "python",
   "pygments_lexer": "ipython3",
   "version": "3.11.5"
  }
 },
 "nbformat": 4,
 "nbformat_minor": 5
}
